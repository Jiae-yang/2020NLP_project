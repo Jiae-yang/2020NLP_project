{
  "nbformat": 4,
  "nbformat_minor": 0,
  "metadata": {
    "colab": {
      "name": "Untitled0.ipynb",
      "provenance": [],
      "mount_file_id": "11bmlQEO4X1cNJDIp9LkaedvZynBALRLo",
      "authorship_tag": "ABX9TyMxd89r4e+ynf4jfHXXdbwW",
      "include_colab_link": true
    },
    "kernelspec": {
      "name": "python3",
      "display_name": "Python 3"
    },
    "language_info": {
      "name": "python"
    },
    "accelerator": "GPU"
  },
  "cells": [
    {
      "cell_type": "markdown",
      "metadata": {
        "id": "view-in-github",
        "colab_type": "text"
      },
      "source": [
        "<a href=\"https://colab.research.google.com/github/Jiae-yang/2020NLP_project/blob/main/xgboost_hyper.ipynb\" target=\"_parent\"><img src=\"https://colab.research.google.com/assets/colab-badge.svg\" alt=\"Open In Colab\"/></a>"
      ]
    },
    {
      "cell_type": "code",
      "metadata": {
        "id": "2pAHmC4O0_m6"
      },
      "source": [
        "import os\n",
        "from google.colab import drive\n",
        "drive.mount('/content/gdrive/')"
      ],
      "execution_count": null,
      "outputs": []
    },
    {
      "cell_type": "code",
      "metadata": {
        "colab": {
          "base_uri": "https://localhost:8080/"
        },
        "id": "tB4KnB931RYm",
        "outputId": "5937f9d9-b767-4df7-cba0-a0109b76e797"
      },
      "source": [
        "from google.colab import drive\n",
        "drive.mount('/content/drive')"
      ],
      "execution_count": 1,
      "outputs": [
        {
          "output_type": "stream",
          "text": [
            "Drive already mounted at /content/drive; to attempt to forcibly remount, call drive.mount(\"/content/drive\", force_remount=True).\n"
          ],
          "name": "stdout"
        }
      ]
    },
    {
      "cell_type": "code",
      "metadata": {
        "id": "-1JvFY_D1nOC"
      },
      "source": [
        "#Importing Required Library\n",
        "import pandas as pd\n",
        "import numpy as np\n",
        "import matplotlib.pyplot as plt\n",
        "import seaborn as sns\n",
        "\n",
        "#SMOTE to balance the Imbalance Data\n",
        "from imblearn.over_sampling import SMOTE\n",
        "\n",
        "#for Spliting Data and Hyperparameter Tuning \n",
        "from sklearn.model_selection import train_test_split, GridSearchCV\n",
        "\n",
        "#Importing Machine Learning Model\n",
        "from sklearn.linear_model import LogisticRegression\n",
        "from sklearn.neighbors import KNeighborsClassifier\n",
        "from sklearn.ensemble import RandomForestClassifier\n",
        "from sklearn.naive_bayes import BernoulliNB\n",
        "    \n",
        "#Bagging Algo\n",
        "from sklearn.tree import DecisionTreeClassifier\n",
        "from xgboost import XGBClassifier, XGBRFClassifier\n",
        "from sklearn.ensemble import AdaBoostClassifier\n",
        "from sklearn.ensemble import GradientBoostingClassifier\n",
        "from lightgbm import LGBMClassifier\n",
        "\n",
        "from sklearn.neural_network import MLPClassifier\n",
        "\n",
        "#To tranform data\n",
        "from sklearn import preprocessing\n",
        "\n",
        "#statistical Tools\n",
        "from sklearn.metrics import roc_auc_score,accuracy_score,precision_score,recall_score,f1_score\n",
        "from sklearn.metrics import confusion_matrix, roc_curve, auc\n",
        "\n",
        "#Setting Format\n",
        "pd.options.display.float_format = '{:.5f}'.format\n",
        "pd.options.display.max_columns = None\n",
        "pd.options.display.max_rows = None\n",
        "\n",
        "import warnings\n",
        "warnings.filterwarnings(\"ignore\")"
      ],
      "execution_count": 4,
      "outputs": []
    },
    {
      "cell_type": "code",
      "metadata": {
        "id": "rKy0ozcw10yQ"
      },
      "source": [
        "#train = pd.read_csv(\"../input/lt-vehicle-loan-default-prediction/train.csv\")\n",
        "#test = pd.read_csv(\"../input/lt-vehicle-loan-default-prediction/test.csv\")\n",
        "train = pd.read_csv(\"/content/drive/MyDrive/train.csv\")\n",
        "test = pd.read_csv(\"/content/drive/MyDrive/test.csv\")"
      ],
      "execution_count": 6,
      "outputs": []
    },
    {
      "cell_type": "code",
      "metadata": {
        "colab": {
          "base_uri": "https://localhost:8080/"
        },
        "id": "tUeOHChE2Jfi",
        "outputId": "9739d19f-2779-4921-e8fd-5e9a5f7ce839"
      },
      "source": [
        "test.shape,train.shape"
      ],
      "execution_count": 7,
      "outputs": [
        {
          "output_type": "execute_result",
          "data": {
            "text/plain": [
              "((112392, 40), (233154, 41))"
            ]
          },
          "metadata": {
            "tags": []
          },
          "execution_count": 7
        }
      ]
    },
    {
      "cell_type": "code",
      "metadata": {
        "colab": {
          "base_uri": "https://localhost:8080/",
          "height": 280
        },
        "id": "AR0t97FM2fyh",
        "outputId": "3bade6f9-cb95-4e8e-810e-284028b61af6"
      },
      "source": [
        "train.loan_default.value_counts().plot(kind='bar')"
      ],
      "execution_count": 8,
      "outputs": [
        {
          "output_type": "execute_result",
          "data": {
            "text/plain": [
              "<matplotlib.axes._subplots.AxesSubplot at 0x7fdccaa27610>"
            ]
          },
          "metadata": {
            "tags": []
          },
          "execution_count": 8
        },
        {
          "output_type": "display_data",
          "data": {
            "image/png": "[encoded data removed]",
            "text/plain": [
              "<Figure size 432x288 with 1 Axes>"
            ]
          },
          "metadata": {
            "tags": [],
            "needs_background": "light"
          }
        }
      ]
    },
    {
      "cell_type": "code",
      "metadata": {
        "id": "SoBggSAJ2hiQ"
      },
      "source": [
        "#Replacing all the Spaces with '_'\n",
        "train.columns = train.columns.str.replace('.','_')"
      ],
      "execution_count": 9,
      "outputs": []
    },
    {
      "cell_type": "code",
      "metadata": {
        "colab": {
          "base_uri": "https://localhost:8080/"
        },
        "id": "ltKLe1YN2pK4",
        "outputId": "9a05fb11-8b21-43af-b8a2-de30f42a5436"
      },
      "source": [
        "train.isna().sum()\n",
        "\n",
        "#So only Employment Type data is missing"
      ],
      "execution_count": 10,
      "outputs": [
        {
          "output_type": "execute_result",
          "data": {
            "text/plain": [
              "UniqueID                                  0\n",
              "disbursed_amount                          0\n",
              "asset_cost                                0\n",
              "ltv                                       0\n",
              "branch_id                                 0\n",
              "supplier_id                               0\n",
              "manufacturer_id                           0\n",
              "Current_pincode_ID                        0\n",
              "Date_of_Birth                             0\n",
              "Employment_Type                        7661\n",
              "DisbursalDate                             0\n",
              "State_ID                                  0\n",
              "Employee_code_ID                          0\n",
              "MobileNo_Avl_Flag                         0\n",
              "Aadhar_flag                               0\n",
              "PAN_flag                                  0\n",
              "VoterID_flag                              0\n",
              "Driving_flag                              0\n",
              "Passport_flag                             0\n",
              "PERFORM_CNS_SCORE                         0\n",
              "PERFORM_CNS_SCORE_DESCRIPTION             0\n",
              "PRI_NO_OF_ACCTS                           0\n",
              "PRI_ACTIVE_ACCTS                          0\n",
              "PRI_OVERDUE_ACCTS                         0\n",
              "PRI_CURRENT_BALANCE                       0\n",
              "PRI_SANCTIONED_AMOUNT                     0\n",
              "PRI_DISBURSED_AMOUNT                      0\n",
              "SEC_NO_OF_ACCTS                           0\n",
              "SEC_ACTIVE_ACCTS                          0\n",
              "SEC_OVERDUE_ACCTS                         0\n",
              "SEC_CURRENT_BALANCE                       0\n",
              "SEC_SANCTIONED_AMOUNT                     0\n",
              "SEC_DISBURSED_AMOUNT                      0\n",
              "PRIMARY_INSTAL_AMT                        0\n",
              "SEC_INSTAL_AMT                            0\n",
              "NEW_ACCTS_IN_LAST_SIX_MONTHS              0\n",
              "DELINQUENT_ACCTS_IN_LAST_SIX_MONTHS       0\n",
              "AVERAGE_ACCT_AGE                          0\n",
              "CREDIT_HISTORY_LENGTH                     0\n",
              "NO_OF_INQUIRIES                           0\n",
              "loan_default                              0\n",
              "dtype: int64"
            ]
          },
          "metadata": {
            "tags": []
          },
          "execution_count": 10
        }
      ]
    },
    {
      "cell_type": "code",
      "metadata": {
        "colab": {
          "base_uri": "https://localhost:8080/",
          "height": 709
        },
        "id": "ErmZ6hgF2p14",
        "outputId": "804b321f-440f-4757-ce1b-c471d9800cab"
      },
      "source": [
        "#Data Correlation\n",
        "plt.figure(figsize=(12,8))\n",
        "sns.heatmap(train.corr())"
      ],
      "execution_count": 11,
      "outputs": [
        {
          "output_type": "execute_result",
          "data": {
            "text/plain": [
              "<matplotlib.axes._subplots.AxesSubplot at 0x7fdcbb11f810>"
            ]
          },
          "metadata": {
            "tags": []
          },
          "execution_count": 11
        },
        {
          "output_type": "display_data",
          "data": {
            "image/png": "[encoded data removed]",
            "text/plain": [
              "<Figure size 864x576 with 2 Axes>"
            ]
          },
          "metadata": {
            "tags": [],
            "needs_background": "light"
          }
        }
      ]
    },
    {
      "cell_type": "code",
      "metadata": {
        "id": "pZvlB-o52ssY"
      },
      "source": [
        "#Lets Look at few columns\n",
        "\n",
        "columns_unique = ['UniqueID','MobileNo_Avl_Flag',\n",
        "         'Current_pincode_ID','Employee_code_ID',\n",
        "         'NO_OF_INQUIRIES','State_ID',\n",
        "         'branch_id','manufacturer_id','supplier_id']\n",
        "\n",
        "\n",
        "unique_col = train[columns_unique]"
      ],
      "execution_count": 12,
      "outputs": []
    },
    {
      "cell_type": "code",
      "metadata": {
        "colab": {
          "base_uri": "https://localhost:8080/",
          "height": 224
        },
        "id": "t3IHVv3E2uZp",
        "outputId": "7c7d2f18-b10f-4781-bca8-11d6f670beb5"
      },
      "source": [
        "unique_col.head()"
      ],
      "execution_count": 13,
      "outputs": [
        {
          "output_type": "execute_result",
          "data": {
            "text/html": [
              "<div>\n",
              "<style scoped>\n",
              "    .dataframe tbody tr th:only-of-type {\n",
              "        vertical-align: middle;\n",
              "    }\n",
              "\n",
              "    .dataframe tbody tr th {\n",
              "        vertical-align: top;\n",
              "    }\n",
              "\n",
              "    .dataframe thead th {\n",
              "        text-align: right;\n",
              "    }\n",
              "</style>\n",
              "<table border=\"1\" class=\"dataframe\">\n",
              "  <thead>\n",
              "    <tr style=\"text-align: right;\">\n",
              "      <th></th>\n",
              "      <th>UniqueID</th>\n",
              "      <th>MobileNo_Avl_Flag</th>\n",
              "      <th>Current_pincode_ID</th>\n",
              "      <th>Employee_code_ID</th>\n",
              "      <th>NO_OF_INQUIRIES</th>\n",
              "      <th>State_ID</th>\n",
              "      <th>branch_id</th>\n",
              "      <th>manufacturer_id</th>\n",
              "      <th>supplier_id</th>\n",
              "    </tr>\n",
              "  </thead>\n",
              "  <tbody>\n",
              "    <tr>\n",
              "      <th>0</th>\n",
              "      <td>420825</td>\n",
              "      <td>1</td>\n",
              "      <td>1441</td>\n",
              "      <td>1998</td>\n",
              "      <td>0</td>\n",
              "      <td>6</td>\n",
              "      <td>67</td>\n",
              "      <td>45</td>\n",
              "      <td>22807</td>\n",
              "    </tr>\n",
              "    <tr>\n",
              "      <th>1</th>\n",
              "      <td>537409</td>\n",
              "      <td>1</td>\n",
              "      <td>1502</td>\n",
              "      <td>1998</td>\n",
              "      <td>0</td>\n",
              "      <td>6</td>\n",
              "      <td>67</td>\n",
              "      <td>45</td>\n",
              "      <td>22807</td>\n",
              "    </tr>\n",
              "    <tr>\n",
              "      <th>2</th>\n",
              "      <td>417566</td>\n",
              "      <td>1</td>\n",
              "      <td>1497</td>\n",
              "      <td>1998</td>\n",
              "      <td>0</td>\n",
              "      <td>6</td>\n",
              "      <td>67</td>\n",
              "      <td>45</td>\n",
              "      <td>22807</td>\n",
              "    </tr>\n",
              "    <tr>\n",
              "      <th>3</th>\n",
              "      <td>624493</td>\n",
              "      <td>1</td>\n",
              "      <td>1501</td>\n",
              "      <td>1998</td>\n",
              "      <td>1</td>\n",
              "      <td>6</td>\n",
              "      <td>67</td>\n",
              "      <td>45</td>\n",
              "      <td>22807</td>\n",
              "    </tr>\n",
              "    <tr>\n",
              "      <th>4</th>\n",
              "      <td>539055</td>\n",
              "      <td>1</td>\n",
              "      <td>1495</td>\n",
              "      <td>1998</td>\n",
              "      <td>1</td>\n",
              "      <td>6</td>\n",
              "      <td>67</td>\n",
              "      <td>45</td>\n",
              "      <td>22807</td>\n",
              "    </tr>\n",
              "  </tbody>\n",
              "</table>\n",
              "</div>"
            ],
            "text/plain": [
              "   UniqueID  MobileNo_Avl_Flag  Current_pincode_ID  Employee_code_ID  \\\n",
              "0    420825                  1                1441              1998   \n",
              "1    537409                  1                1502              1998   \n",
              "2    417566                  1                1497              1998   \n",
              "3    624493                  1                1501              1998   \n",
              "4    539055                  1                1495              1998   \n",
              "\n",
              "   NO_OF_INQUIRIES  State_ID  branch_id  manufacturer_id  supplier_id  \n",
              "0                0         6         67               45        22807  \n",
              "1                0         6         67               45        22807  \n",
              "2                0         6         67               45        22807  \n",
              "3                1         6         67               45        22807  \n",
              "4                1         6         67               45        22807  "
            ]
          },
          "metadata": {
            "tags": []
          },
          "execution_count": 13
        }
      ]
    },
    {
      "cell_type": "code",
      "metadata": {
        "colab": {
          "base_uri": "https://localhost:8080/"
        },
        "id": "kM0PPX2b2vmI",
        "outputId": "fe5356c6-6164-48e8-f5bd-81f914424819"
      },
      "source": [
        "#Looking at all unique values\n",
        "for i in unique_col.columns:\n",
        "    print(i,\" : distinct_value\")\n",
        "    print(unique_col[i].nunique(),\" : No. of unique Items\")\n",
        "    #print(unique_col[i].unique())\n",
        "    print(\"-\"*30)\n",
        "    print(\"\")"
      ],
      "execution_count": 14,
      "outputs": [
        {
          "output_type": "stream",
          "text": [
            "UniqueID  : distinct_value\n",
            "233154  : No. of unique Items\n",
            "------------------------------\n",
            "\n",
            "MobileNo_Avl_Flag  : distinct_value\n",
            "1  : No. of unique Items\n",
            "------------------------------\n",
            "\n",
            "Current_pincode_ID  : distinct_value\n",
            "6698  : No. of unique Items\n",
            "------------------------------\n",
            "\n",
            "Employee_code_ID  : distinct_value\n",
            "3270  : No. of unique Items\n",
            "------------------------------\n",
            "\n",
            "NO_OF_INQUIRIES  : distinct_value\n",
            "25  : No. of unique Items\n",
            "------------------------------\n",
            "\n",
            "State_ID  : distinct_value\n",
            "22  : No. of unique Items\n",
            "------------------------------\n",
            "\n",
            "branch_id  : distinct_value\n",
            "82  : No. of unique Items\n",
            "------------------------------\n",
            "\n",
            "manufacturer_id  : distinct_value\n",
            "11  : No. of unique Items\n",
            "------------------------------\n",
            "\n",
            "supplier_id  : distinct_value\n",
            "2953  : No. of unique Items\n",
            "------------------------------\n",
            "\n"
          ],
          "name": "stdout"
        }
      ]
    },
    {
      "cell_type": "code",
      "metadata": {
        "colab": {
          "base_uri": "https://localhost:8080/",
          "height": 651
        },
        "id": "h7ijEZE22xTJ",
        "outputId": "eea9bd07-f1ba-4936-a291-164ff83f1343"
      },
      "source": [
        "unique_col.hist(bins=5, figsize=(16,12))\n",
        "plt.show()"
      ],
      "execution_count": 15,
      "outputs": [
        {
          "output_type": "display_data",
          "data": {
            "image/png": "[encoded data removed]",
            "text/plain": [
              "<Figure size 1152x864 with 9 Axes>"
            ]
          },
          "metadata": {
            "tags": [],
            "needs_background": "light"
          }
        }
      ]
    },
    {
      "cell_type": "code",
      "metadata": {
        "id": "1yAVN5g02zkQ"
      },
      "source": [
        "def columns_drop(data):\n",
        "    data.drop(unique_col,axis=1,inplace=True)"
      ],
      "execution_count": 16,
      "outputs": []
    },
    {
      "cell_type": "code",
      "metadata": {
        "id": "uZa9uwp521TA"
      },
      "source": [
        "columns_drop(train)"
      ],
      "execution_count": 17,
      "outputs": []
    },
    {
      "cell_type": "code",
      "metadata": {
        "id": "lgWQvwKP22S5"
      },
      "source": [
        "#Now we have 2 Columns named \"AVERAGE_ACCT_AGE\" & \"CREDIT_HISTORY_LENGTH\".\n",
        "#They have AplhNumeric Values Lets change them to Months\n",
        "\n",
        "def change_col_month(col):\n",
        "    year = int(col.split()[0].replace('yrs',''))\n",
        "    month = int(col.split()[1].replace('mon',''))\n",
        "    return year*12+month\n",
        "\n",
        "def months_transformation(data):\n",
        "    data['CREDIT_HISTORY_LENGTH'] = data['CREDIT_HISTORY_LENGTH'].apply(change_col_month)\n",
        "    data['AVERAGE_ACCT_AGE'] = data['AVERAGE_ACCT_AGE'].apply(change_col_month)"
      ],
      "execution_count": 18,
      "outputs": []
    },
    {
      "cell_type": "code",
      "metadata": {
        "id": "1h7ggEMp24IY"
      },
      "source": [
        "months_transformation(train)"
      ],
      "execution_count": 19,
      "outputs": []
    },
    {
      "cell_type": "code",
      "metadata": {
        "colab": {
          "base_uri": "https://localhost:8080/",
          "height": 298
        },
        "id": "pNs5dctE25mw",
        "outputId": "5eeb74c7-c18f-4470-c0db-969c129cca9b"
      },
      "source": [
        "#plot = data.iloc[:test.shape[0]]\n",
        "plot = train[train['AVERAGE_ACCT_AGE']<175]\n",
        "sns.lineplot(x=train['AVERAGE_ACCT_AGE'],y=train['loan_default'])"
      ],
      "execution_count": 20,
      "outputs": [
        {
          "output_type": "execute_result",
          "data": {
            "text/plain": [
              "<matplotlib.axes._subplots.AxesSubplot at 0x7fdcbc006c50>"
            ]
          },
          "metadata": {
            "tags": []
          },
          "execution_count": 20
        },
        {
          "output_type": "display_data",
          "data": {
            "image/png": "[encoded data removed]",
            "text/plain": [
              "<Figure size 432x288 with 1 Axes>"
            ]
          },
          "metadata": {
            "tags": [],
            "needs_background": "light"
          }
        }
      ]
    },
    {
      "cell_type": "code",
      "metadata": {
        "colab": {
          "base_uri": "https://localhost:8080/",
          "height": 298
        },
        "id": "Zo_BTkmS28WY",
        "outputId": "1dafad84-6dc7-4e18-e116-6cd9fc2adc39"
      },
      "source": [
        "#plot = data.iloc[:test.shape[0]]\n",
        "plot = train[train['CREDIT_HISTORY_LENGTH']<200]\n",
        "sns.lineplot(x=train['CREDIT_HISTORY_LENGTH'],y=train['loan_default'])"
      ],
      "execution_count": 21,
      "outputs": [
        {
          "output_type": "execute_result",
          "data": {
            "text/plain": [
              "<matplotlib.axes._subplots.AxesSubplot at 0x7fdcaf4f6ed0>"
            ]
          },
          "metadata": {
            "tags": []
          },
          "execution_count": 21
        },
        {
          "output_type": "display_data",
          "data": {
            "image/png": "[encoded data removed]",
            "text/plain": [
              "<Figure size 432x288 with 1 Axes>"
            ]
          },
          "metadata": {
            "tags": [],
            "needs_background": "light"
          }
        }
      ]
    },
    {
      "cell_type": "code",
      "metadata": {
        "colab": {
          "base_uri": "https://localhost:8080/"
        },
        "id": "5YNbNcmh3ACp",
        "outputId": "f26c746b-1dcc-47f0-e915-834683f44cd7"
      },
      "source": [
        "train.PERFORM_CNS_SCORE_DESCRIPTION.value_counts()"
      ],
      "execution_count": 22,
      "outputs": [
        {
          "output_type": "execute_result",
          "data": {
            "text/plain": [
              "No Bureau History Available                                116950\n",
              "C-Very Low Risk                                             16045\n",
              "A-Very Low Risk                                             14124\n",
              "D-Very Low Risk                                             11358\n",
              "B-Very Low Risk                                              9201\n",
              "M-Very High Risk                                             8776\n",
              "F-Low Risk                                                   8485\n",
              "K-High Risk                                                  8277\n",
              "H-Medium Risk                                                6855\n",
              "E-Low Risk                                                   5821\n",
              "I-Medium Risk                                                5557\n",
              "G-Low Risk                                                   3988\n",
              "Not Scored: Sufficient History Not Available                 3765\n",
              "J-High Risk                                                  3748\n",
              "Not Scored: Not Enough Info available on the customer        3672\n",
              "Not Scored: No Activity seen on the customer (Inactive)      2885\n",
              "Not Scored: No Updates available in last 36 months           1534\n",
              "L-Very High Risk                                             1134\n",
              "Not Scored: Only a Guarantor                                  976\n",
              "Not Scored: More than 50 active Accounts found                  3\n",
              "Name: PERFORM_CNS_SCORE_DESCRIPTION, dtype: int64"
            ]
          },
          "metadata": {
            "tags": []
          },
          "execution_count": 22
        }
      ]
    },
    {
      "cell_type": "code",
      "metadata": {
        "id": "ISNTti8f3DlA"
      },
      "source": [
        "def replace_not_scored(n):\n",
        "    #here we are spliting letters before '-'.\n",
        "    score=n.split(\"-\")\n",
        "    \n",
        "    if len(score)!=1:\n",
        "        return score[0]\n",
        "    else:\n",
        "        return 'N'\n",
        "\n",
        "def transform_CNS_Description(data):\n",
        "    data['CNS_SCORE_DESCRIPTION']=data['PERFORM_CNS_SCORE_DESCRIPTION'].apply(replace_not_scored).astype(np.object)\n",
        "    \n",
        "    #Now Transform CNS Score Description data into Numbers\n",
        "\n",
        "    sub_risk = {'N':-1, 'K':0, 'J':1, 'I':2, 'H':3, 'G':4, 'E':5,'F':6, 'L':7, 'M':8, 'B':9, 'D':10, 'A':11, 'C':12}\n",
        "\n",
        "    data['CNS_SCORE_DESCRIPTION'] = data['CNS_SCORE_DESCRIPTION'].apply(lambda x: sub_risk[x])\n",
        "    \n",
        "transform_CNS_Description(train)"
      ],
      "execution_count": 23,
      "outputs": []
    },
    {
      "cell_type": "code",
      "metadata": {
        "id": "fcYQEgXw3EZx"
      },
      "source": [
        "def transform_PERFORM_CNS_SCORE_DESCRIPTION(data):\n",
        "    #Replacing all the values into Common Group\n",
        "\n",
        "    data['PERFORM_CNS_SCORE_DESCRIPTION'].replace({'C-Very Low Risk':'Very Low Risk',\n",
        "                                                 'A-Very Low Risk':'Very Low Risk',\n",
        "                                                 'D-Very Low Risk':'Very Low Risk',\n",
        "                                                 'B-Very Low Risk':'Very Low Risk',\n",
        "                                                 'M-Very High Risk':'Very High Risk',\n",
        "                                                 'L-Very High Risk':'Very High Risk',\n",
        "                                                 'F-Low Risk':'Low Risk',\n",
        "                                                 'E-Low Risk':'Low Risk',\n",
        "                                                 'G-Low Risk':'Low Risk',\n",
        "                                                 'H-Medium Risk':'Medium Risk',\n",
        "                                                 'I-Medium Risk':'Medium Risk',\n",
        "                                                 'J-High Risk':'High Risk',\n",
        "                                                 'K-High Risk':'High Risk'},\n",
        "                                                  inplace=True)\n",
        "\n",
        "    #Transformin them into Numeric Features\n",
        "\n",
        "    risk_map = {'No Bureau History Available':-1, \n",
        "                  'Not Scored: No Activity seen on the customer (Inactive)':-1,\n",
        "                  'Not Scored: Sufficient History Not Available':-1,\n",
        "                  'Not Scored: No Updates available in last 36 months':-1,\n",
        "                  'Not Scored: Only a Guarantor':-1,\n",
        "                  'Not Scored: More than 50 active Accounts found':-1,\n",
        "                  'Not Scored: Not Enough Info available on the customer':-1,\n",
        "                  'Very Low Risk':4,\n",
        "                  'Low Risk':3,\n",
        "                  'Medium Risk':2, \n",
        "                  'High Risk':1,\n",
        "                  'Very High Risk':0}\n",
        "\n",
        "    data['PERFORM_CNS_SCORE_DESCRIPTION'] = data['PERFORM_CNS_SCORE_DESCRIPTION'].map(risk_map)\n",
        "\n",
        "transform_PERFORM_CNS_SCORE_DESCRIPTION(train)"
      ],
      "execution_count": 24,
      "outputs": []
    },
    {
      "cell_type": "code",
      "metadata": {
        "colab": {
          "base_uri": "https://localhost:8080/",
          "height": 298
        },
        "id": "znXk-dz_3Gmx",
        "outputId": "67880fbc-2ad1-47ad-d169-b818b4c34eb4"
      },
      "source": [
        "sns.countplot(x = train['PERFORM_CNS_SCORE_DESCRIPTION'])"
      ],
      "execution_count": 25,
      "outputs": [
        {
          "output_type": "execute_result",
          "data": {
            "text/plain": [
              "<matplotlib.axes._subplots.AxesSubplot at 0x7fdcae455790>"
            ]
          },
          "metadata": {
            "tags": []
          },
          "execution_count": 25
        },
        {
          "output_type": "display_data",
          "data": {
            "image/png": "[encoded data removed]",
            "text/plain": [
              "<Figure size 432x288 with 1 Axes>"
            ]
          },
          "metadata": {
            "tags": [],
            "needs_background": "light"
          }
        }
      ]
    },
    {
      "cell_type": "code",
      "metadata": {
        "colab": {
          "base_uri": "https://localhost:8080/"
        },
        "id": "r69uyFd63I6J",
        "outputId": "f01f9bd1-c3e4-46a9-ed4d-26e4b21bf4d6"
      },
      "source": [
        "train.Employment_Type.value_counts()"
      ],
      "execution_count": 26,
      "outputs": [
        {
          "output_type": "execute_result",
          "data": {
            "text/plain": [
              "Self employed    127635\n",
              "Salaried          97858\n",
              "Name: Employment_Type, dtype: int64"
            ]
          },
          "metadata": {
            "tags": []
          },
          "execution_count": 26
        }
      ]
    },
    {
      "cell_type": "code",
      "metadata": {
        "colab": {
          "base_uri": "https://localhost:8080/"
        },
        "id": "eN4lLBV13KXJ",
        "outputId": "13e46922-227b-42dd-f492-3da1e8bbef01"
      },
      "source": [
        "defa = pd.crosstab(train['Employment_Type'], train['loan_default'])\n",
        "print(defa)"
      ],
      "execution_count": 27,
      "outputs": [
        {
          "output_type": "stream",
          "text": [
            "loan_default         0      1\n",
            "Employment_Type              \n",
            "Salaried         77948  19910\n",
            "Self employed    98578  29057\n"
          ],
          "name": "stdout"
        }
      ]
    },
    {
      "cell_type": "code",
      "metadata": {
        "id": "U7fDNDOt3L1g"
      },
      "source": [
        "def fill_employment_type(data):\n",
        "    data['Employment_Type'] = data['Employment_Type'].fillna('Salaried')\n",
        "    employment_map = {'Self employed':0, 'Salaried':1, 'Not_employed':-1}\n",
        "\n",
        "    data['Employment_Type'] = data['Employment_Type'].apply(lambda x: employment_map[x])\n",
        "fill_employment_type(train)"
      ],
      "execution_count": 28,
      "outputs": []
    },
    {
      "cell_type": "code",
      "metadata": {
        "colab": {
          "base_uri": "https://localhost:8080/"
        },
        "id": "nYbHdfFM3NCw",
        "outputId": "6d265fe4-0ff8-4c50-923c-a96bffd0fb27"
      },
      "source": [
        "import scipy.stats as stats\n",
        "chi_sq, p_value, deg_freedom, exp_freq = stats.chi2_contingency(defa)\n",
        "print('Chi Square Statistics',chi_sq)\n",
        "print('p-value',p_value)\n",
        "print('Degree of freedom',deg_freedom)"
      ],
      "execution_count": 29,
      "outputs": [
        {
          "output_type": "stream",
          "text": [
            "Chi Square Statistics 190.6579236758318\n",
            "p-value 2.2841351170641894e-43\n",
            "Degree of freedom 1\n"
          ],
          "name": "stdout"
        }
      ]
    },
    {
      "cell_type": "code",
      "metadata": {
        "colab": {
          "base_uri": "https://localhost:8080/",
          "height": 298
        },
        "id": "yYuorMyH3OSB",
        "outputId": "ac3caf90-ed34-440c-b8af-d3eda9b4f801"
      },
      "source": [
        "sns.countplot(x = train['Employment_Type'])"
      ],
      "execution_count": 30,
      "outputs": [
        {
          "output_type": "execute_result",
          "data": {
            "text/plain": [
              "<matplotlib.axes._subplots.AxesSubplot at 0x7fdcae5543d0>"
            ]
          },
          "metadata": {
            "tags": []
          },
          "execution_count": 30
        },
        {
          "output_type": "display_data",
          "data": {
            "image/png": "[encoded data removed]",
            "text/plain": [
              "<Figure size 432x288 with 1 Axes>"
            ]
          },
          "metadata": {
            "tags": [],
            "needs_background": "light"
          }
        }
      ]
    },
    {
      "cell_type": "code",
      "metadata": {
        "id": "W-Q-heAw3PzR"
      },
      "source": [
        "pri_columns = ['PRI_NO_OF_ACCTS','SEC_NO_OF_ACCTS',\n",
        "           'PRI_ACTIVE_ACCTS','SEC_ACTIVE_ACCTS',\n",
        "           'PRI_OVERDUE_ACCTS','SEC_OVERDUE_ACCTS',\n",
        "           'PRI_CURRENT_BALANCE','SEC_CURRENT_BALANCE',\n",
        "           'PRI_SANCTIONED_AMOUNT','SEC_SANCTIONED_AMOUNT',\n",
        "           'PRI_DISBURSED_AMOUNT','SEC_DISBURSED_AMOUNT',\n",
        "           'PRIMARY_INSTAL_AMT', 'SEC_INSTAL_AMT']\n",
        "\n",
        "pri_df = train[pri_columns]"
      ],
      "execution_count": 31,
      "outputs": []
    },
    {
      "cell_type": "code",
      "metadata": {
        "id": "duiITg1P3RsZ"
      },
      "source": [
        "def new_col(data):\n",
        "    #Creating and Sorting Columns\n",
        "\n",
        "    data['NO_OF_ACCTS'] = data['PRI_NO_OF_ACCTS'] + data['SEC_NO_OF_ACCTS']\n",
        "\n",
        "    data['ACTIVE_ACCTS'] = data['PRI_ACTIVE_ACCTS'] + data['SEC_ACTIVE_ACCTS']\n",
        "\n",
        "    data['OVERDUE_ACCTS'] = data['PRI_OVERDUE_ACCTS'] + data['SEC_OVERDUE_ACCTS']\n",
        "\n",
        "    data['CURRENT_BALANCE'] = data['PRI_CURRENT_BALANCE'] + data['SEC_CURRENT_BALANCE']\n",
        "\n",
        "    data['SANCTIONED_AMOUNT'] = data['PRI_SANCTIONED_AMOUNT'] + data['SEC_SANCTIONED_AMOUNT']\n",
        "\n",
        "    data['DISBURSED_AMOUNT'] = data['PRI_DISBURSED_AMOUNT'] + data['SEC_DISBURSED_AMOUNT']\n",
        "\n",
        "    data['INSTAL_AMT'] = data['PRIMARY_INSTAL_AMT'] + data['SEC_SANCTIONED_AMOUNT']\n",
        "    \n",
        "    data.drop(pri_columns, axis=1, inplace=True)\n",
        "\n",
        "new_col(train)"
      ],
      "execution_count": 32,
      "outputs": []
    },
    {
      "cell_type": "code",
      "metadata": {
        "colab": {
          "base_uri": "https://localhost:8080/"
        },
        "id": "NkTMQmqE3S35",
        "outputId": "1e0ca761-150f-4ef6-bbf8-1e893036294d"
      },
      "source": [
        "new_columns = ['NO_OF_ACCTS', 'ACTIVE_ACCTS', 'OVERDUE_ACCTS', 'CURRENT_BALANCE',\n",
        "       'SANCTIONED_AMOUNT', 'DISBURSED_AMOUNT', 'INSTAL_AMT']\n",
        "\n",
        "for i in new_columns:\n",
        "    print(i,\" : distinct_value\")\n",
        "    print(train[i].nunique(),\" : No. of unique Items\")\n",
        "    #print(data[i].unique())\n",
        "    print(\"-\"*30)\n",
        "    print(\"\")"
      ],
      "execution_count": 33,
      "outputs": [
        {
          "output_type": "stream",
          "text": [
            "NO_OF_ACCTS  : distinct_value\n",
            "108  : No. of unique Items\n",
            "------------------------------\n",
            "\n",
            "ACTIVE_ACCTS  : distinct_value\n",
            "41  : No. of unique Items\n",
            "------------------------------\n",
            "\n",
            "OVERDUE_ACCTS  : distinct_value\n",
            "22  : No. of unique Items\n",
            "------------------------------\n",
            "\n",
            "CURRENT_BALANCE  : distinct_value\n",
            "72483  : No. of unique Items\n",
            "------------------------------\n",
            "\n",
            "SANCTIONED_AMOUNT  : distinct_value\n",
            "45367  : No. of unique Items\n",
            "------------------------------\n",
            "\n",
            "DISBURSED_AMOUNT  : distinct_value\n",
            "48958  : No. of unique Items\n",
            "------------------------------\n",
            "\n",
            "INSTAL_AMT  : distinct_value\n",
            "30049  : No. of unique Items\n",
            "------------------------------\n",
            "\n"
          ],
          "name": "stdout"
        }
      ]
    },
    {
      "cell_type": "code",
      "metadata": {
        "colab": {
          "base_uri": "https://localhost:8080/"
        },
        "id": "NetEeuJX3UZg",
        "outputId": "813353bf-6e39-45c8-ef99-a33485045edf"
      },
      "source": [
        "train.Date_of_Birth.min(), train.Date_of_Birth.max()"
      ],
      "execution_count": 34,
      "outputs": [
        {
          "output_type": "execute_result",
          "data": {
            "text/plain": [
              "('01-01-00', '31-12-99')"
            ]
          },
          "metadata": {
            "tags": []
          },
          "execution_count": 34
        }
      ]
    },
    {
      "cell_type": "code",
      "metadata": {
        "colab": {
          "base_uri": "https://localhost:8080/",
          "height": 204
        },
        "id": "cpnfNV4m3YPY",
        "outputId": "d21db3a6-8ffb-4baa-a941-8167ec3ca5f2"
      },
      "source": [
        "df_age = train[['disbursed_amount', 'asset_cost', 'ltv', 'Date_of_Birth','DisbursalDate','loan_default']]\n",
        "df_age.tail()"
      ],
      "execution_count": 35,
      "outputs": [
        {
          "output_type": "execute_result",
          "data": {
            "text/html": [
              "<div>\n",
              "<style scoped>\n",
              "    .dataframe tbody tr th:only-of-type {\n",
              "        vertical-align: middle;\n",
              "    }\n",
              "\n",
              "    .dataframe tbody tr th {\n",
              "        vertical-align: top;\n",
              "    }\n",
              "\n",
              "    .dataframe thead th {\n",
              "        text-align: right;\n",
              "    }\n",
              "</style>\n",
              "<table border=\"1\" class=\"dataframe\">\n",
              "  <thead>\n",
              "    <tr style=\"text-align: right;\">\n",
              "      <th></th>\n",
              "      <th>disbursed_amount</th>\n",
              "      <th>asset_cost</th>\n",
              "      <th>ltv</th>\n",
              "      <th>Date_of_Birth</th>\n",
              "      <th>DisbursalDate</th>\n",
              "      <th>loan_default</th>\n",
              "    </tr>\n",
              "  </thead>\n",
              "  <tbody>\n",
              "    <tr>\n",
              "      <th>233149</th>\n",
              "      <td>63213</td>\n",
              "      <td>105405</td>\n",
              "      <td>60.72000</td>\n",
              "      <td>01-08-88</td>\n",
              "      <td>26-10-18</td>\n",
              "      <td>0</td>\n",
              "    </tr>\n",
              "    <tr>\n",
              "      <th>233150</th>\n",
              "      <td>73651</td>\n",
              "      <td>100600</td>\n",
              "      <td>74.95000</td>\n",
              "      <td>05-12-88</td>\n",
              "      <td>23-10-18</td>\n",
              "      <td>0</td>\n",
              "    </tr>\n",
              "    <tr>\n",
              "      <th>233151</th>\n",
              "      <td>33484</td>\n",
              "      <td>71212</td>\n",
              "      <td>48.45000</td>\n",
              "      <td>01-06-76</td>\n",
              "      <td>24-10-18</td>\n",
              "      <td>0</td>\n",
              "    </tr>\n",
              "    <tr>\n",
              "      <th>233152</th>\n",
              "      <td>34259</td>\n",
              "      <td>73286</td>\n",
              "      <td>49.10000</td>\n",
              "      <td>26-03-94</td>\n",
              "      <td>29-09-18</td>\n",
              "      <td>0</td>\n",
              "    </tr>\n",
              "    <tr>\n",
              "      <th>233153</th>\n",
              "      <td>75751</td>\n",
              "      <td>116009</td>\n",
              "      <td>66.81000</td>\n",
              "      <td>18-02-84</td>\n",
              "      <td>27-10-18</td>\n",
              "      <td>0</td>\n",
              "    </tr>\n",
              "  </tbody>\n",
              "</table>\n",
              "</div>"
            ],
            "text/plain": [
              "        disbursed_amount  asset_cost      ltv Date_of_Birth DisbursalDate  \\\n",
              "233149             63213      105405 60.72000      01-08-88      26-10-18   \n",
              "233150             73651      100600 74.95000      05-12-88      23-10-18   \n",
              "233151             33484       71212 48.45000      01-06-76      24-10-18   \n",
              "233152             34259       73286 49.10000      26-03-94      29-09-18   \n",
              "233153             75751      116009 66.81000      18-02-84      27-10-18   \n",
              "\n",
              "        loan_default  \n",
              "233149             0  \n",
              "233150             0  \n",
              "233151             0  \n",
              "233152             0  \n",
              "233153             0  "
            ]
          },
          "metadata": {
            "tags": []
          },
          "execution_count": 35
        }
      ]
    },
    {
      "cell_type": "code",
      "metadata": {
        "colab": {
          "base_uri": "https://localhost:8080/",
          "height": 204
        },
        "id": "YIDg2_1k3ZMZ",
        "outputId": "41102123-0c9c-467d-cba2-55d6003b7477"
      },
      "source": [
        "def age(dob):\n",
        "    yr = int(dob[-2:])\n",
        "    if yr >=0 and yr < 20:\n",
        "        return yr + 2000\n",
        "    else:\n",
        "         return yr + 1900\n",
        "        \n",
        "df_age['Date_of_Birth'] = df_age['Date_of_Birth'].apply(age)\n",
        "df_age['DisbursalDate'] = df_age['DisbursalDate'].apply(age)\n",
        "df_age['Age']=df_age['DisbursalDate']-df_age['Date_of_Birth']\n",
        "df_age=df_age.drop(['DisbursalDate','Date_of_Birth'],axis=1)\n",
        "\n",
        "df_age.head()"
      ],
      "execution_count": 36,
      "outputs": [
        {
          "output_type": "execute_result",
          "data": {
            "text/html": [
              "<div>\n",
              "<style scoped>\n",
              "    .dataframe tbody tr th:only-of-type {\n",
              "        vertical-align: middle;\n",
              "    }\n",
              "\n",
              "    .dataframe tbody tr th {\n",
              "        vertical-align: top;\n",
              "    }\n",
              "\n",
              "    .dataframe thead th {\n",
              "        text-align: right;\n",
              "    }\n",
              "</style>\n",
              "<table border=\"1\" class=\"dataframe\">\n",
              "  <thead>\n",
              "    <tr style=\"text-align: right;\">\n",
              "      <th></th>\n",
              "      <th>disbursed_amount</th>\n",
              "      <th>asset_cost</th>\n",
              "      <th>ltv</th>\n",
              "      <th>loan_default</th>\n",
              "      <th>Age</th>\n",
              "    </tr>\n",
              "  </thead>\n",
              "  <tbody>\n",
              "    <tr>\n",
              "      <th>0</th>\n",
              "      <td>50578</td>\n",
              "      <td>58400</td>\n",
              "      <td>89.55000</td>\n",
              "      <td>0</td>\n",
              "      <td>34</td>\n",
              "    </tr>\n",
              "    <tr>\n",
              "      <th>1</th>\n",
              "      <td>47145</td>\n",
              "      <td>65550</td>\n",
              "      <td>73.23000</td>\n",
              "      <td>1</td>\n",
              "      <td>33</td>\n",
              "    </tr>\n",
              "    <tr>\n",
              "      <th>2</th>\n",
              "      <td>53278</td>\n",
              "      <td>61360</td>\n",
              "      <td>89.63000</td>\n",
              "      <td>0</td>\n",
              "      <td>33</td>\n",
              "    </tr>\n",
              "    <tr>\n",
              "      <th>3</th>\n",
              "      <td>57513</td>\n",
              "      <td>66113</td>\n",
              "      <td>88.48000</td>\n",
              "      <td>1</td>\n",
              "      <td>25</td>\n",
              "    </tr>\n",
              "    <tr>\n",
              "      <th>4</th>\n",
              "      <td>52378</td>\n",
              "      <td>60300</td>\n",
              "      <td>88.39000</td>\n",
              "      <td>1</td>\n",
              "      <td>41</td>\n",
              "    </tr>\n",
              "  </tbody>\n",
              "</table>\n",
              "</div>"
            ],
            "text/plain": [
              "   disbursed_amount  asset_cost      ltv  loan_default  Age\n",
              "0             50578       58400 89.55000             0   34\n",
              "1             47145       65550 73.23000             1   33\n",
              "2             53278       61360 89.63000             0   33\n",
              "3             57513       66113 88.48000             1   25\n",
              "4             52378       60300 88.39000             1   41"
            ]
          },
          "metadata": {
            "tags": []
          },
          "execution_count": 36
        }
      ]
    },
    {
      "cell_type": "code",
      "metadata": {
        "id": "xwO_ALAf3asI"
      },
      "source": [
        "def calculate_age(data):\n",
        "    data['Date_of_Birth'] = data['Date_of_Birth'].apply(age)\n",
        "    data['DisbursalDate'] = data['DisbursalDate'].apply(age)\n",
        "    # Age of applicant when he/she applied for Loan\n",
        "    data['Age'] = data['DisbursalDate'] - data['Date_of_Birth']\n",
        "    data = data.drop( ['DisbursalDate', 'Date_of_Birth'], axis=1)\n",
        "    \n",
        "calculate_age(train)"
      ],
      "execution_count": 37,
      "outputs": []
    },
    {
      "cell_type": "code",
      "metadata": {
        "colab": {
          "base_uri": "https://localhost:8080/"
        },
        "id": "T9Efb6jt3cFn",
        "outputId": "3c1de834-0090-45ff-f86c-78e21567fd06"
      },
      "source": [
        "transformed = []\n",
        "transformed_with_one = []\n",
        "not_transformed = []\n",
        "\n",
        "def column_to_transform(data):\n",
        "\n",
        "    num_col = ['disbursed_amount', 'asset_cost', 'ltv', 'PERFORM_CNS_SCORE',\n",
        "            'NEW_ACCTS_IN_LAST_SIX_MONTHS', 'CREDIT_HISTORY_LENGTH',\n",
        "           'DELINQUENT_ACCTS_IN_LAST_SIX_MONTHS', 'AVERAGE_ACCT_AGE',\n",
        "           'NO_OF_ACCTS', 'ACTIVE_ACCTS', 'OVERDUE_ACCTS', 'CURRENT_BALANCE',\n",
        "           'SANCTIONED_AMOUNT', 'DISBURSED_AMOUNT', 'INSTAL_AMT', 'Age']\n",
        "    \n",
        "    num_col_data = data[num_col]\n",
        "    \n",
        "    def transformation_boxcox(num_col_data):\n",
        "    \n",
        "        from scipy.stats import boxcox\n",
        "\n",
        "        for i in num_col:\n",
        "            if num_col_data[i].min() > 0:\n",
        "                num_col_data[i] = boxcox(num_col_data[i])[0]\n",
        "                transformed.append(i)\n",
        "            elif num_col_data[i].min() == 0:\n",
        "                num_col_data[i] = boxcox(num_col_data[i]+1)[0]\n",
        "                transformed_with_one.append(i)\n",
        "            else:\n",
        "                num_col_data[i] = num_col_data[i]\n",
        "                not_transformed.append(i)\n",
        "        print(\"Successful\")\n",
        "    \n",
        "    transformation_boxcox(data)\n",
        "\n",
        "column_to_transform(train)"
      ],
      "execution_count": 38,
      "outputs": [
        {
          "output_type": "stream",
          "text": [
            "Successful\n"
          ],
          "name": "stdout"
        }
      ]
    },
    {
      "cell_type": "code",
      "metadata": {
        "id": "4hAZ3aEZ3eZh"
      },
      "source": [
        "def data_processing(data):\n",
        "    test.columns = test.columns.str.replace('.','_')\n",
        "    columns_drop(data)\n",
        "    months_transformation(data)\n",
        "    transform_CNS_Description(data)\n",
        "    transform_PERFORM_CNS_SCORE_DESCRIPTION(data)\n",
        "    fill_employment_type(data)\n",
        "    new_col(data)\n",
        "    mode_impute_outlier(data)\n",
        "    calculate_age(data)\n",
        "    column_to_transform(data)\n",
        "    preprocessing.RobustScaler()\n",
        "    scaler.transform(data)\n",
        "    return data.shape"
      ],
      "execution_count": 39,
      "outputs": []
    },
    {
      "cell_type": "code",
      "metadata": {
        "id": "5RDw_xUz3gga"
      },
      "source": [
        "X = train.drop(['loan_default'], axis=1)\n",
        "y = train['loan_default']"
      ],
      "execution_count": 40,
      "outputs": []
    },
    {
      "cell_type": "code",
      "metadata": {
        "colab": {
          "base_uri": "https://localhost:8080/"
        },
        "id": "KrW28u7X3h2I",
        "outputId": "d0a12b4c-ff25-474d-eeed-121fc437ecea"
      },
      "source": [
        "smote = SMOTE()\n",
        "X_tf,y_tf = smote.fit_resample(X,y)\n",
        "X_tf.shape, y_tf.shape"
      ],
      "execution_count": 41,
      "outputs": [
        {
          "output_type": "execute_result",
          "data": {
            "text/plain": [
              "((365086, 26), (365086,))"
            ]
          },
          "metadata": {
            "tags": []
          },
          "execution_count": 41
        }
      ]
    },
    {
      "cell_type": "code",
      "metadata": {
        "colab": {
          "base_uri": "https://localhost:8080/"
        },
        "id": "ZSUEvXEu3jmg",
        "outputId": "c6905934-f159-4fce-a7c4-c97eb5bfda96"
      },
      "source": [
        "scaler = preprocessing.RobustScaler()\n",
        "X_tf = scaler.fit_transform(X_tf)\n",
        "\n",
        "# Split the data into training and testing sets \n",
        "x_train,x_test,y_train,y_test = train_test_split(X_tf,y_tf,test_size = .1, random_state = 3300)\n",
        "\n",
        "print(x_train.shape[0], x_test.shape[0])"
      ],
      "execution_count": 42,
      "outputs": [
        {
          "output_type": "stream",
          "text": [
            "328577 36509\n"
          ],
          "name": "stdout"
        }
      ]
    },
    {
      "cell_type": "code",
      "metadata": {
        "id": "oSTjFyru3mOI"
      },
      "source": [
        "accuracy = {}\n",
        "roc_r = {}\n",
        "\n",
        "def train_model(model, model_name):\n",
        "    print(model_name)\n",
        "    \n",
        "    # Fitting model\n",
        "    model = model.fit(x_train, y_train)\n",
        "    pred = model.predict(x_test)\n",
        "    \n",
        "    #Model accuracy\n",
        "    acc = accuracy_score(y_test, pred)*100\n",
        "    accuracy[model_name] = acc\n",
        "    print('accuracy_score',acc)\n",
        "    print('precision_score',precision_score(y_test, pred)*100)\n",
        "    print('recall_score',recall_score(y_test, pred)*100)\n",
        "    print('f1_score',f1_score(y_test, pred)*100)\n",
        "    \n",
        "    \n",
        "    #ROC Score\n",
        "    roc_score = roc_auc_score(y_test, pred)*100\n",
        "    roc_r[model_name] = roc_score\n",
        "    print('roc_auc_score',roc_score)\n",
        "    \n",
        "    # Confusion matrix\n",
        "    print('confusion_matrix')\n",
        "    print(pd.DataFrame(confusion_matrix(y_test, pred)))\n",
        "    \n",
        "    #ROC Score\n",
        "    fpr, tpr, threshold = roc_curve(y_test, pred)\n",
        "    roc_auc = auc(fpr, tpr)*100\n",
        "    \n",
        "    #ROC Plot\n",
        "    plt.title('Receiver Operating Characteristic')\n",
        "    plt.plot(fpr, tpr, 'b', label = 'AUC = %0.2f' % roc_auc)\n",
        "    plt.legend(loc = 'lower right')\n",
        "    plt.plot([0, 1], [0, 1],'r--')\n",
        "    plt.xlim([0, 1])\n",
        "    plt.ylim([0, 1])\n",
        "    plt.ylabel('True Positive Rate')\n",
        "    plt.xlabel('False Positive Rate')\n",
        "    plt.show()"
      ],
      "execution_count": 43,
      "outputs": []
    },
    {
      "cell_type": "code",
      "metadata": {
        "colab": {
          "base_uri": "https://localhost:8080/"
        },
        "id": "TzPuL-DJ3o5a",
        "outputId": "94d6d011-493a-4cb9-a7bf-1637fb737418"
      },
      "source": [
        "# hyper parameter 튜닝3 \n",
        "# n_estimators = 1500, nthread  = 4, max_depth = 15, min_child_weight = 5, learning_rate=0.1\n",
        "from sklearn.model_selection import GridSearchCV\n",
        "max_depth = [i for i in range(10,21,5)]\n",
        "# min_samples_leaf = [i for i in range(500,2500,1000)]\n",
        "# max_features = [20,25,30]\n",
        "n_estimators = [i for i in range(500,1600,500)]\n",
        "learning_rate = [0.05, 0.1]\n",
        "param_grid = dict(max_depth=max_depth,n_estimators=n_estimators,learning_rate=learning_rate  )\n",
        "param_grid"
      ],
      "execution_count": 47,
      "outputs": [
        {
          "output_type": "execute_result",
          "data": {
            "text/plain": [
              "{'learning_rate': [0.05, 0.1],\n",
              " 'max_depth': [10, 15, 20],\n",
              " 'n_estimators': [500, 1000, 1500]}"
            ]
          },
          "metadata": {
            "tags": []
          },
          "execution_count": 47
        }
      ]
    },
    {
      "cell_type": "code",
      "metadata": {
        "id": "0XGwrWIL3srv"
      },
      "source": [
        "from sklearn.ensemble import GradientBoostingClassifier\n",
        "clf = XGBClassifier(random_state=100)\n",
        "# grid = GridSearchCV(estimator=clf, param_grid=param_grid, scoring=\"accuracy\")\n",
        "grid = GridSearchCV(estimator=clf, param_grid=param_grid, scoring=\"roc_auc\")\n",
        "# xgb_grid = GridSearchCV(xgb, param_grid = xgb_param_grid, scoring=\"roc_auc\", n_jobs= -1, verbose = 1)"
      ],
      "execution_count": 48,
      "outputs": []
    },
    {
      "cell_type": "code",
      "metadata": {
        "id": "LbiFsjNo35MY"
      },
      "source": [
        "grid_result = grid.fit(X_tf, y_tf)\n",
        "print(\"Best Score: \",grid_result.best_score_)\n",
        "print(\"Best Score: \",grid_result.best_params_)"
      ],
      "execution_count": null,
      "outputs": []
    },
    {
      "cell_type": "code",
      "metadata": {
        "id": "exejgVQD369I"
      },
      "source": [
        "result = pd.DataFrame(grid.cv_results_)\n",
        "result.sort_values(by=['rank_test_score'], inplace=True)"
      ],
      "execution_count": null,
      "outputs": []
    },
    {
      "cell_type": "code",
      "metadata": {
        "id": "0zh-46vE4DVC"
      },
      "source": [
        "result[['params', 'mean_test_score', 'rank_test_score']].head(10)"
      ],
      "execution_count": null,
      "outputs": []
    }
  ]
}